{
  "nbformat": 4,
  "nbformat_minor": 0,
  "metadata": {
    "colab": {
      "name": "A3_Q2.ipynb",
      "provenance": []
    },
    "kernelspec": {
      "name": "python3",
      "display_name": "Python 3"
    },
    "language_info": {
      "name": "python"
    },
    "accelerator": "GPU"
  },
  "cells": [
    {
      "cell_type": "markdown",
      "metadata": {
        "id": "VZj5wP9s0YdC"
      },
      "source": [
        "**Huzaifa Jahan - MNIST 3 Layer CNN**"
      ]
    },
    {
      "cell_type": "markdown",
      "metadata": {
        "id": "ULcKZXfuyMN8"
      },
      "source": [
        "Install\n"
      ]
    },
    {
      "cell_type": "code",
      "metadata": {
        "id": "CwXa2I6tCgT5"
      },
      "source": [
        "!pip install tensorflow-gpu"
      ],
      "execution_count": null,
      "outputs": []
    },
    {
      "cell_type": "markdown",
      "metadata": {
        "id": "cuJa5_5Eyfui"
      },
      "source": [
        "Data-Prep"
      ]
    },
    {
      "cell_type": "code",
      "metadata": {
        "id": "Giup93zDoRTh"
      },
      "source": [
        "#Import Libraries\n",
        "import numpy as np\n",
        "from tensorflow import keras\n",
        "from tensorflow.keras import layers\n",
        "\n",
        "#Parameters/Splitting\n",
        "num_classes = 10\n",
        "input_shape = (28, 28, 1)\n",
        "(x_train, y_train), (x_test, y_test) = keras.datasets.mnist.load_data()\n",
        "\n",
        "# Scaling to [0, 1]\n",
        "x_train = x_train.astype(\"float32\") / 255\n",
        "x_test = x_test.astype(\"float32\") / 255\n",
        "\n",
        "# Images shape (28, 28, 1)\n",
        "x_train = np.expand_dims(x_train, -1)\n",
        "x_test = np.expand_dims(x_test, -1)\n",
        "print(\"x_train shape:\", x_train.shape)\n",
        "print(x_train.shape[0], \"train samples\")\n",
        "print(x_test.shape[0], \"test samples\")\n",
        "\n",
        "\n",
        "y_train = keras.utils.to_categorical(y_train, num_classes)\n",
        "y_test = keras.utils.to_categorical(y_test, num_classes)"
      ],
      "execution_count": null,
      "outputs": []
    },
    {
      "cell_type": "markdown",
      "metadata": {
        "id": "lHrYQtlBykf7"
      },
      "source": [
        "Model"
      ]
    },
    {
      "cell_type": "code",
      "metadata": {
        "colab": {
          "base_uri": "https://localhost:8080/"
        },
        "id": "Jd-wopW3pFlz",
        "outputId": "a17d7ce1-a5b3-4c04-da4d-2321d3b1a949"
      },
      "source": [
        "model = keras.Sequential(\n",
        "    [\n",
        "        keras.Input(shape=input_shape),\n",
        "        layers.Conv2D(32, strides=1, kernel_size=(3, 3), activation=\"relu\"),\n",
        "        layers.Conv2D(64, kernel_size=(3, 3), activation=\"relu\"),\n",
        "        layers.Conv2D(64, kernel_size=(3, 3), activation=\"relu\"),\n",
        "        layers.MaxPooling2D(pool_size=(2, 2)),\n",
        "        layers.Flatten(),                                              #Flatten layers will flatten 2D arrays into 1D arrays \n",
        "           #layers.Dropout(0.5),                                       #Combats overfitting by disregarding some of the neurons while training  <------ should add this into the CNN (but wasnt stated in the question to use)\n",
        "        layers.Dense(128),\n",
        "        layers.Dense(num_classes, activation=\"softmax\"),               #num_classes = 10 since 10 digits\n",
        "    ]\n",
        ")\n",
        "\n",
        "model.summary()"
      ],
      "execution_count": null,
      "outputs": [
        {
          "output_type": "stream",
          "text": [
            "Model: \"sequential_12\"\n",
            "_________________________________________________________________\n",
            "Layer (type)                 Output Shape              Param #   \n",
            "=================================================================\n",
            "conv2d_34 (Conv2D)           (None, 26, 26, 32)        320       \n",
            "_________________________________________________________________\n",
            "conv2d_35 (Conv2D)           (None, 24, 24, 64)        18496     \n",
            "_________________________________________________________________\n",
            "conv2d_36 (Conv2D)           (None, 22, 22, 64)        36928     \n",
            "_________________________________________________________________\n",
            "max_pooling2d_18 (MaxPooling (None, 11, 11, 64)        0         \n",
            "_________________________________________________________________\n",
            "flatten_12 (Flatten)         (None, 7744)              0         \n",
            "_________________________________________________________________\n",
            "dense_16 (Dense)             (None, 128)               991360    \n",
            "_________________________________________________________________\n",
            "dense_17 (Dense)             (None, 10)                1290      \n",
            "=================================================================\n",
            "Total params: 1,048,394\n",
            "Trainable params: 1,048,394\n",
            "Non-trainable params: 0\n",
            "_________________________________________________________________\n"
          ],
          "name": "stdout"
        }
      ]
    },
    {
      "cell_type": "markdown",
      "metadata": {
        "id": "7xRZ54lPyphh"
      },
      "source": [
        "Training"
      ]
    },
    {
      "cell_type": "code",
      "metadata": {
        "colab": {
          "base_uri": "https://localhost:8080/"
        },
        "id": "ml1LSml-pawP",
        "outputId": "39d707db-583e-41cf-e1cd-71913b0ef613"
      },
      "source": [
        "batch_size = 128         \n",
        "epochs = 10              # Epoch = # of times model runs through dataset\n",
        "\n",
        "model.compile(loss=\"categorical_crossentropy\", optimizer=\"adam\", metrics=[\"accuracy\"])\n",
        "\n",
        "model.fit(x_train, y_train, batch_size=batch_size, epochs=epochs, validation_split=0.1)"
      ],
      "execution_count": null,
      "outputs": [
        {
          "output_type": "stream",
          "text": [
            "Epoch 1/10\n",
            "422/422 [==============================] - 5s 11ms/step - loss: 0.3382 - accuracy: 0.8937 - val_loss: 0.0481 - val_accuracy: 0.9867\n",
            "Epoch 2/10\n",
            "422/422 [==============================] - 5s 11ms/step - loss: 0.0461 - accuracy: 0.9852 - val_loss: 0.0510 - val_accuracy: 0.9862\n",
            "Epoch 3/10\n",
            "422/422 [==============================] - 5s 11ms/step - loss: 0.0305 - accuracy: 0.9899 - val_loss: 0.0361 - val_accuracy: 0.9890\n",
            "Epoch 4/10\n",
            "422/422 [==============================] - 5s 11ms/step - loss: 0.0231 - accuracy: 0.9922 - val_loss: 0.0471 - val_accuracy: 0.9882\n",
            "Epoch 5/10\n",
            "422/422 [==============================] - 5s 11ms/step - loss: 0.0150 - accuracy: 0.9956 - val_loss: 0.0411 - val_accuracy: 0.9905\n",
            "Epoch 6/10\n",
            "422/422 [==============================] - 5s 11ms/step - loss: 0.0148 - accuracy: 0.9950 - val_loss: 0.0421 - val_accuracy: 0.9900\n",
            "Epoch 7/10\n",
            "422/422 [==============================] - 5s 11ms/step - loss: 0.0102 - accuracy: 0.9965 - val_loss: 0.0425 - val_accuracy: 0.9905\n",
            "Epoch 8/10\n",
            "422/422 [==============================] - 5s 11ms/step - loss: 0.0093 - accuracy: 0.9969 - val_loss: 0.0415 - val_accuracy: 0.9905\n",
            "Epoch 9/10\n",
            "422/422 [==============================] - 5s 11ms/step - loss: 0.0072 - accuracy: 0.9976 - val_loss: 0.0412 - val_accuracy: 0.9893\n",
            "Epoch 10/10\n",
            "422/422 [==============================] - 5s 11ms/step - loss: 0.0061 - accuracy: 0.9979 - val_loss: 0.0494 - val_accuracy: 0.9902\n"
          ],
          "name": "stdout"
        },
        {
          "output_type": "execute_result",
          "data": {
            "text/plain": [
              "<tensorflow.python.keras.callbacks.History at 0x7f03de262c50>"
            ]
          },
          "metadata": {
            "tags": []
          },
          "execution_count": 38
        }
      ]
    },
    {
      "cell_type": "markdown",
      "metadata": {
        "id": "zOf0sFeDyu8q"
      },
      "source": [
        "Results"
      ]
    },
    {
      "cell_type": "code",
      "metadata": {
        "colab": {
          "base_uri": "https://localhost:8080/"
        },
        "id": "7Xw2QJnkpeuv",
        "outputId": "3e9943d9-c95e-448f-de3a-e001fde4a781"
      },
      "source": [
        "score = model.evaluate(x_test, y_test, verbose=0)\n",
        "print(\"Loss:\", score[0])\n",
        "print(\"Accuracy:\", score[1])      # Accuracy of the model to detect correct Hand written digit "
      ],
      "execution_count": null,
      "outputs": [
        {
          "output_type": "stream",
          "text": [
            "Loss: 0.042780473828315735\n",
            "Accuracy: 0.9896000027656555\n"
          ],
          "name": "stdout"
        }
      ]
    }
  ]
}